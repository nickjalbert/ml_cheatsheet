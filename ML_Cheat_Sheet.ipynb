{
 "cells": [
  {
   "cell_type": "markdown",
   "metadata": {},
   "source": [
    "# ML Cheat Sheet"
   ]
  },
  {
   "cell_type": "markdown",
   "metadata": {},
   "source": [
    "## Introduction\n",
    "\n",
    "This notebook briefly explains some of the math notation and and library methods you'll come across when studying machine learning."
   ]
  },
  {
   "cell_type": "markdown",
   "metadata": {},
   "source": [
    "## Math\n",
    "\n",
    "$$\\Large x \\in Y$$\n",
    "\n",
    "Element $x$ is in set $Y$.  \n",
    "\n",
    "Example - if $Y$ is the the set of numbers $\\{2,4,6\\}$, then $2 \\in Y$.\n",
    "\n",
    "---\n",
    "\n",
    "\n",
    "$$\\Large x \\notin Y$$ \n",
    "\n",
    "Element $x$ is $not$ in Y. \n",
    "\n",
    "Example - if $Y$ is the set of numbers $\\{2,4,6\\}$, then $3 \\notin Y$\n",
    "\n",
    "---\n",
    "\n",
    "$$\\Large x_i$$ \n",
    "\n",
    "The $i^{th}$ item of $x$.  \n",
    "\n",
    "Example - if $x$ is the vector $(1,5,6,2)$ then $x_3 = 6$.  \n",
    "\n",
    "Notes -  Confusingly, this is often 1-indexed in the math but 0-indexed in code.  It can also get a little messy when $x$ is a dataset of vectors (as often happens in ML contexts), in that case $x_3$ will mean the third vector/datapoint in the dataset.\n",
    "\n",
    "---\n",
    "\n",
    "$$\\Large \\sum_{i \\in Y} x_i$$  \n",
    "\n",
    "The sum of all $x_i$ where $i \\in Y$.  \n",
    "\n",
    "Example - if $Y$ is $\\{1,3\\}$ and $x$ is the vector $(7, 9, 10)$ then this is equivalent to $x_1 + x_3 = 7 + 10 = 17$.  \n",
    "\n",
    "Notes - often people get lazy with specifying the indices so sometimes you'll just see $\\sum x_i$ to mean \"sum together every $x_i$\".  Using the above definition of $x$, this would mean $x_1 + x_2 + x_3 = 7 + 9  + 10 = 26$.\n",
    "\n",
    "---\n",
    "\n",
    "$$\\Large x \\cdot y$$\n",
    "\n",
    "The [dot product](https://en.wikipedia.org/wiki/Dot_product) of $x$ and $y$.  If $x$ and $y$ are vectors of length $i$, then this is equivalent to $\\sum x_iy_i$.\n",
    "\n",
    "Example - If $x$ is the vector $(3, 5, 7)$ and $y$ is the vector $(1, 0, 2)$, then $x \\cdot y$ is $x_1y_1 + x_2y_2 + x_3y_3 = (3*1) + (5*0) + (7*2) = 17$.\n",
    "\n",
    "Notes - Sometimes we'll write [matrix multiplication](https://en.wikipedia.org/wiki/Matrix_multiplication) using this notation.  More often, we'll denote matrix multiplication by just juxtaposing the matrix symbols.  That is, if $A$ and $B$ are matrices, then $A \\cdot B = AB$.  Notice how matrix multiplication is just the dot product of each row of $A$ with each column of $B$.\n",
    "\n",
    "---\n",
    "\n",
    "$$\\Large \\lVert x \\rVert$$ \n",
    "\n",
    "This is [euclidean norm](https://www.quora.com/What-is-Euclidean-norm-and-what-are-its-uses) of vector $x$.  This equivalent to $\\sqrt{x \\cdot x} = \\sqrt{\\sum_i x_i^2}$.\n",
    "\n",
    "Example - If $x$ is $(3,4)$, then $\\lVert x \\rVert = \\sqrt{x_1^2 + x_2} = \\sqrt{3^2 + 4^2} = 5$\n",
    "\n",
    "Notes - This can be though of as the length of vector $x$.\n",
    "\n",
    "---\n",
    "\n",
    "$$\\Large \\lVert x \\rVert^2$$ \n",
    "\n",
    "\n",
    "This is the squared euclidean norm. This is equivalent to $\\sqrt{x \\cdot x}^2 = \\sum_i x_i^2$.\n",
    "\n",
    "Example - If $x$ is $(3,4)$, then $\\lVert x \\rVert^2 = \\sqrt{x_1^2 + x_2}^2 = 3^2 + 4^2 = 25$\n",
    "\n",
    "\n",
    "Notes - You'll see this as a regularization term in some cost functions where the vectors being square-euclidean-normed are the parameters the model is learning.  In this context, regularization is applying quadratically increasing penalties to these parameters as they become further from zero.\n",
    "\n",
    "---\n",
    "\n",
    "$$\\Large \\overline{x}$$\n",
    "\n",
    "The mean of $x$.  Often denoted as $\\mu$ in statistics. This equivalent to $\\frac{1}{n}\\sum x_i$ where $n$ is the number of items in $x$.\n",
    "\n",
    "Example - If $x$ is $(3,4)$ then $\\overline{x} = \\frac{1}{2} \\sum x_i = \\frac{1}{2} * (3 + 4) = 3.5$\n",
    "\n",
    "---\n",
    "\n",
    "$$\\Large \\hat{y}$$\n",
    "\n",
    "This is used to denote the predictions produced by a model.  \n",
    "\n",
    "Example - I train a linear regression on two features ($x_1$ and $x_2$).  The model I learned was $\\hat{y} = 5 + 2 x_1  + 3 x_2$. \n",
    "\n",
    "I now have a observation with features $x_{new} = (7, 9)$, when I plug in $x_{new}$ to my model, the value I get out will be $\\hat{y} = 5 + (2 * 7) + (3 * 9) = 46 $.\n",
    "\n",
    "---\n",
    "\n",
    "$$\\Large M_{a \\times b}$$\n",
    "\n",
    "\n",
    "$M$ is a matrix with $a$ rows and $b$ columns. \n",
    "\n",
    "Example - $M_{2 \\times 3} = \\begin{bmatrix}4 & 5 & 1\\\\0 & 11 & 8\\end{bmatrix}$.  $M$ has 2 rows and 3 columns.\n",
    "\n",
    "Notes - We'll often denote the entry in the $i^{th}$ row and $j^{th}$ column of $M$ by lowercasing the matrix symbol and subscripting, e.g $m_{2,3} = 8$ in the matrix above because 8 is the entry at row 2 column 3.\n",
    "\n",
    "\n",
    "---\n",
    "\n",
    "$$\\Large MN$$\n",
    "\n",
    "Multiply matrix $M$ by matrix $N$.  Also written $M \\times N$ and $M \\cdot N$.\n",
    "\n",
    "[Here's a great explanation of the mechanics of matrix multiplication](https://math.stackexchange.com/a/2063291)\n",
    "\n",
    "\n",
    "\n",
    "transpose\n",
    "\n",
    "inverse\n"
   ]
  },
  {
   "cell_type": "markdown",
   "metadata": {},
   "source": [
    "## Numpy\n",
    "\n",
    "np.dot\n",
    "\n",
    "np.T\n",
    "\n",
    "\n"
   ]
  },
  {
   "cell_type": "markdown",
   "metadata": {},
   "source": [
    "## Scikit\n",
    "\n",
    "test_train_split\n",
    "\n",
    "evaluation (ROC AUC accuracy precision)\n",
    "\n",
    "negation\n",
    "\n",
    "boolean"
   ]
  },
  {
   "cell_type": "markdown",
   "metadata": {},
   "source": [
    "## Pandas\n",
    "\n",
    "read_csv\n",
    "\n",
    "dtypes\n",
    "\n",
    "describe\n",
    "\n",
    "head"
   ]
  },
  {
   "cell_type": "markdown",
   "metadata": {},
   "source": [
    "## Pyplot"
   ]
  },
  {
   "cell_type": "markdown",
   "metadata": {},
   "source": [
    "scatter\n",
    "\n",
    "plt"
   ]
  },
  {
   "cell_type": "code",
   "execution_count": null,
   "metadata": {},
   "outputs": [],
   "source": []
  }
 ],
 "metadata": {
  "kernelspec": {
   "display_name": "Python 3",
   "language": "python",
   "name": "python3"
  },
  "language_info": {
   "codemirror_mode": {
    "name": "ipython",
    "version": 3
   },
   "file_extension": ".py",
   "mimetype": "text/x-python",
   "name": "python",
   "nbconvert_exporter": "python",
   "pygments_lexer": "ipython3",
   "version": "3.5.2"
  }
 },
 "nbformat": 4,
 "nbformat_minor": 2
}
